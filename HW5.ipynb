{
 "cells": [
  {
   "cell_type": "markdown",
   "metadata": {},
   "source": [
    "Option 2 - Write a computer program in your favorite programming language to perform the angular spectrum method for calculating the diffraction pattern fro an arbitrary nearfield pattern. "
   ]
  },
  {
   "cell_type": "code",
   "execution_count": 37,
   "metadata": {},
   "outputs": [],
   "source": [
    "#Required Libraries\n",
    "import cv2\n",
    "import numpy as np\n",
    "import tkinter as tk\n",
    "from tkinter import filedialog"
   ]
  },
  {
   "cell_type": "code",
   "execution_count": 38,
   "metadata": {},
   "outputs": [],
   "source": [
    "#initialize Variables\n",
    "lamb = 390*10**(-9)\n",
    "t = 1/lamb\n",
    "omega = 2*np.pi/t\n",
    "k = 2*np.pi/lamb\n",
    "c = omega/k\n",
    "#Distance of measurement away from mask (in m)\n",
    "z = 0.05\n",
    "gain = 0.01\n"
   ]
  },
  {
   "cell_type": "code",
   "execution_count": 39,
   "metadata": {},
   "outputs": [
    {
     "name": "stdout",
     "output_type": "stream",
     "text": [
      "(512, 512)\n",
      "Image file: C:/Users/junju/OneDrive/School/Homework/Year 2/Semester 2/ESE 438/HW6/Input Images/Untitled.png has been loaded\n"
     ]
    }
   ],
   "source": [
    "#Import mask image file\n",
    "file = filedialog.askopenfilename(initialdir = '/Users/junju/OneDrive/School/Homework/Year 2/Semester 2/ESE 438/HW6/Input Images', title = 'Select Mask Image')\n",
    "mask = cv2.imread(file,0)\n",
    "print(mask.shape)\n",
    "print(\"Image file: \" + file + \" has been loaded\")\n"
   ]
  },
  {
   "cell_type": "code",
   "execution_count": 40,
   "metadata": {},
   "outputs": [],
   "source": [
    "pixWidthX = len(mask[0])\n",
    "pixWidthY = len(mask)"
   ]
  },
  {
   "cell_type": "code",
   "execution_count": 41,
   "metadata": {},
   "outputs": [],
   "source": [
    "#Function to convert wavelength to \n",
    "def wavelength_to_rgb(wavelength, gamma=0.8):\n",
    "\n",
    "    wavelength = float(wavelength)\n",
    "    if wavelength >= 380 and wavelength <= 440:\n",
    "        attenuation = 0.3 + 0.7 * (wavelength - 380) / (440 - 380)\n",
    "        R = ((-(wavelength - 440) / (440 - 380)) * attenuation) ** gamma\n",
    "        G = 0.0\n",
    "        B = (1.0 * attenuation) ** gamma\n",
    "    elif wavelength >= 440 and wavelength <= 490:\n",
    "        R = 0.0\n",
    "        G = ((wavelength - 440) / (490 - 440)) ** gamma\n",
    "        B = 1.0\n",
    "    elif wavelength >= 490 and wavelength <= 510:\n",
    "        R = 0.0\n",
    "        G = 1.0\n",
    "        B = (-(wavelength - 510) / (510 - 490)) ** gamma\n",
    "    elif wavelength >= 510 and wavelength <= 580:\n",
    "        R = ((wavelength - 510) / (580 - 510)) ** gamma\n",
    "        G = 1.0\n",
    "        B = 0.0\n",
    "    elif wavelength >= 580 and wavelength <= 645:\n",
    "        R = 1.0\n",
    "        G = (-(wavelength - 645) / (645 - 580)) ** gamma\n",
    "        B = 0.0\n",
    "    elif wavelength >= 645 and wavelength <= 750:\n",
    "        attenuation = 0.3 + 0.7 * (750 - wavelength) / (750 - 645)\n",
    "        R = (1.0 * attenuation) ** gamma\n",
    "        G = 0.0\n",
    "        B = 0.0\n",
    "    else:\n",
    "        R = 0.0\n",
    "        G = 0.0\n",
    "        B = 0.0\n",
    "    R *= 255\n",
    "    G *= 255\n",
    "    B *= 255\n",
    "    #B and R inverted for OpenCV compatibility\n",
    "    return (int(B), int(G), int(R))"
   ]
  },
  {
   "cell_type": "code",
   "execution_count": 42,
   "metadata": {},
   "outputs": [],
   "source": [
    "#Angular Spectrum Method Function\n",
    "fft_m = np.fft.fft2(mask)\n",
    "m = np.fft.fftshift(fft_m)\n",
    "\n",
    "#Spatial Frequency * 2 * Pi for kx and ky\n",
    "kx = 2*np.pi*np.fft.fftshift(np.fft.fftfreq(pixWidthX, d = (5.6*10**(-3))/pixWidthX))\n",
    "ky = 2*np.pi*np.fft.fftshift(np.fft.fftfreq(pixWidthY, d = (5.6*10**(-3))/pixWidthY))\n",
    "kx, ky = np.meshgrid(kx, ky)\n",
    "kz = np.sqrt(k**2 - kx**2 - ky**2)\n",
    "\n"
   ]
  },
  {
   "cell_type": "code",
   "execution_count": 43,
   "metadata": {},
   "outputs": [
    {
     "data": {
      "text/plain": [
       "True"
      ]
     },
     "execution_count": 43,
     "metadata": {},
     "output_type": "execute_result"
    }
   ],
   "source": [
    "#Inverse FFT to return to original form\n",
    "newM = np.fft.ifft2(np.fft.ifftshift(m * np.exp(1j * kz * z)))\n",
    "\n",
    "#Calculate intensity of resulting plane\n",
    "intensity = np.real(newM * np.conjugate(newM)) * gain\n",
    "\n",
    "#Convert Monochrome Image into RGB (Still retaining original color)\n",
    "intensity = np.array(intensity, dtype = np.float32)\n",
    "colorFormatIntensity = cv2.cvtColor(intensity ,cv2.COLOR_GRAY2RGB)\n",
    "\n",
    "#Find color of monochromatic plane wave\n",
    "colorRGB = wavelength_to_rgb(lamb*10**9)\n",
    "\n",
    "#Apply previously calculated color value while retaining previous intensity value\n",
    "for i in range(pixWidthX):\n",
    "    for j in range(pixWidthY):\n",
    "        for k in range(0, 3):\n",
    "            colorFormatIntensity[i][j][k] = colorRGB[k] *colorFormatIntensity[i][j][k]/255\n",
    "cv2.imwrite('/Users/junju/OneDrive/School/Homework/Year 2/Semester 2/ESE 438/AngularSpectrumMethodGUI/Output Images/new.png', colorFormatIntensity )"
   ]
  },
  {
   "cell_type": "code",
   "execution_count": 44,
   "metadata": {},
   "outputs": [
    {
     "data": {
      "text/plain": [
       "True"
      ]
     },
     "execution_count": 44,
     "metadata": {},
     "output_type": "execute_result"
    }
   ],
   "source": [
    "noEvanescent = np.where(kz**2 > 0, m * np.exp(1j * kz * z), 0)\n",
    "noEvM = np.fft.ifft2(np.fft.ifftshift(noEvanescent))\n",
    "noEvIntensity = np.real(noEvM * np.conjugate(noEvM))* gain\n",
    "noEvIntensity = np.array(noEvIntensity, dtype = np.float32)\n",
    "noEvColorFormatIntensity = cv2.cvtColor(noEvIntensity ,cv2.COLOR_GRAY2RGB)\n",
    "for i in range(pixWidthX):\n",
    "    for j in range(pixWidthY):\n",
    "        for k in range(0, 3):\n",
    "            noEvColorFormatIntensity[i][j][k] = colorRGB[k] *noEvColorFormatIntensity[i][j][k]/255\n",
    "cv2.imwrite('/Users/junju/OneDrive/School/Homework/Year 2/Semester 2/ESE 438/AngularSpectrumMethodGUI/Output Images/newnoEV.png', noEvIntensity)"
   ]
  }
 ],
 "metadata": {
  "interpreter": {
   "hash": "e12b8d351d98c61ea3d799ea483032609327ad97d7c45db347c6f36ccbd87e77"
  },
  "kernelspec": {
   "display_name": "Python 3.10.1 64-bit",
   "language": "python",
   "name": "python3"
  },
  "language_info": {
   "codemirror_mode": {
    "name": "ipython",
    "version": 3
   },
   "file_extension": ".py",
   "mimetype": "text/x-python",
   "name": "python",
   "nbconvert_exporter": "python",
   "pygments_lexer": "ipython3",
   "version": "3.10.1"
  },
  "orig_nbformat": 4
 },
 "nbformat": 4,
 "nbformat_minor": 2
}
